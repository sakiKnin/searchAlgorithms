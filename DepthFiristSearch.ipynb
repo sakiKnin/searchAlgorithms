{
 "cells": [
  {
   "cell_type": "markdown",
   "id": "yellow-accreditation",
   "metadata": {},
   "source": [
    "### Implementation of BFS algorithm "
   ]
  },
  {
   "cell_type": "code",
   "execution_count": 139,
   "id": "processed-korean",
   "metadata": {},
   "outputs": [],
   "source": [
    "class InitClass():\n",
    "    def __init__(self, adjList, visited, components={}, count=0):\n",
    "            self.adjList=adjList\n",
    "            self.visited=visited\n",
    "            self.components=components\n",
    "            self.count=count"
   ]
  },
  {
   "cell_type": "code",
   "execution_count": 324,
   "id": "posted-dallas",
   "metadata": {},
   "outputs": [],
   "source": [
    "adjList = { 1:[2,3,6], 2:[1,3,5], 3:[1,2], 4:[5], 5:[2,4,6], 6:[1,5] }\n",
    "visited={ 1:False, 2:False, 3:False, 4:False, 5:False, 6:False }\n",
    "init=InitClass(adjList, visited,components,count)"
   ]
  },
  {
   "cell_type": "code",
   "execution_count": 325,
   "id": "experimental-control",
   "metadata": {},
   "outputs": [],
   "source": [
    "def BFS(start, adjList):\n",
    "    que = []\n",
    "    que.append(start)\n",
    "    prev = { 1:0, 2:0, 3:0, 4:0, 5:0, 6:0 }\n",
    "    while que:\n",
    "        for node in init.adjList[que[0]]:\n",
    "            if not init.visited[node] and node not in que:\n",
    "                que.append(node)\n",
    "                prev[node] = que[0]\n",
    "        #print(que)\n",
    "        init.visited[que[0]] = True\n",
    "        que.pop(0)\n",
    "        \n",
    "    return prev"
   ]
  },
  {
   "cell_type": "markdown",
   "id": "freelance-examination",
   "metadata": {},
   "source": [
    "### Find shortest path"
   ]
  },
  {
   "cell_type": "code",
   "execution_count": 326,
   "id": "qualified-forge",
   "metadata": {},
   "outputs": [],
   "source": [
    "def findShortestPath(start, end, prev):\n",
    "        path = []\n",
    "        node = end\n",
    "        while prev[node]:\n",
    "            path.append(node)\n",
    "            node = prev[node]\n",
    "    \n",
    "        return path[::-1]"
   ]
  },
  {
   "cell_type": "code",
   "execution_count": 327,
   "id": "impaired-antique",
   "metadata": {},
   "outputs": [
    {
     "data": {
      "text/plain": [
       "[2, 5, 4]"
      ]
     },
     "execution_count": 327,
     "metadata": {},
     "output_type": "execute_result"
    }
   ],
   "source": [
    "start = 1\n",
    "end = 4\n",
    "prev = BFS(start, init.adjList)\n",
    "findShortestPath(start, end, prev)"
   ]
  },
  {
   "cell_type": "markdown",
   "id": "conditional-vermont",
   "metadata": {},
   "source": [
    "### Implementaion of DFS algorithm for counting connected components"
   ]
  },
  {
   "cell_type": "code",
   "execution_count": 333,
   "id": "connected-daniel",
   "metadata": {},
   "outputs": [],
   "source": [
    "components={ 1:0, 2:0, 3:0, 4:0, 5:0, 6:0 }\n",
    "visited={ 1:False, 2:False, 3:False, 4:False, 5:False, 6:False }\n",
    "adjList1 = { 1:[2,3], 2:[1,3], 3:[1,2], 4:[3], 5:[6], 6:[5] }\n",
    "adjList = { 1:[2,3,6], 2:[1,3,5], 3:[1,2], 4:[5], 5:[2,4,6], 6:[1,5] }"
   ]
  },
  {
   "cell_type": "code",
   "execution_count": 334,
   "id": "spectacular-march",
   "metadata": {},
   "outputs": [],
   "source": [
    "connected=ConnectedComponents(adjList,visited,components,count)"
   ]
  },
  {
   "cell_type": "code",
   "execution_count": 335,
   "id": "complimentary-fluid",
   "metadata": {},
   "outputs": [],
   "source": [
    " def findComponents():\n",
    "    for i in range(1,len(connected.visited)):\n",
    "        if not connected.visited[i]:\n",
    "            connected.count+=1\n",
    "            DFS(i)\n",
    "    return (connected.count, connected.components)"
   ]
  },
  {
   "cell_type": "code",
   "execution_count": 336,
   "id": "objective-programmer",
   "metadata": {},
   "outputs": [],
   "source": [
    "def DFS(start):\n",
    "    connected.visited[start]=True\n",
    "    connected.components[start]=connected.count\n",
    "    for node in connected.adjList[start]:\n",
    "        if not connected.visited[node]:\n",
    "            DFS(node) "
   ]
  },
  {
   "cell_type": "code",
   "execution_count": 337,
   "id": "compact-genealogy",
   "metadata": {},
   "outputs": [
    {
     "data": {
      "text/plain": [
       "(1, {1: 1, 2: 1, 3: 1, 4: 1, 5: 1, 6: 1})"
      ]
     },
     "execution_count": 337,
     "metadata": {},
     "output_type": "execute_result"
    }
   ],
   "source": [
    "findComponents()"
   ]
  },
  {
   "cell_type": "code",
   "execution_count": 305,
   "id": "latin-plain",
   "metadata": {},
   "outputs": [
    {
     "name": "stdout",
     "output_type": "stream",
     "text": [
      "{1: False, 2: False, 3: False, 4: False, 5: False, 6: False}\n",
      "{1: True, 2: False, 3: False, 4: False, 5: False, 6: False}\n",
      "{1: True, 2: True, 3: False, 4: False, 5: False, 6: False}\n",
      "{1: True, 2: True, 3: True, 4: False, 5: False, 6: False}\n",
      "{1: True, 2: True, 3: True, 4: False, 5: True, 6: False}\n",
      "{1: True, 2: True, 3: True, 4: True, 5: True, 6: False}\n"
     ]
    }
   ],
   "source": [
    "DFS1(1)"
   ]
  },
  {
   "cell_type": "code",
   "execution_count": 273,
   "id": "treated-thomson",
   "metadata": {},
   "outputs": [
    {
     "name": "stdout",
     "output_type": "stream",
     "text": [
      "(1, {1: 1, 2: 1, 3: 1, 4: 1, 5: 1, 6: 1})\n"
     ]
    }
   ],
   "source": [
    " print(findComponents())"
   ]
  },
  {
   "cell_type": "code",
   "execution_count": 311,
   "id": "worthy-silver",
   "metadata": {},
   "outputs": [],
   "source": [
    "def DFS2(start, adjList, visited):\n",
    "    stack=[]\n",
    "    stack.append(start)\n",
    "    while stack:\n",
    "        print(visited)\n",
    "        v=stack.pop()\n",
    "        if not visited[v]:\n",
    "            visited[v]=True\n",
    "            for node in adjList[v]:\n",
    "                if not visited[node] and node not in stack:\n",
    "                    stack.append(node)"
   ]
  },
  {
   "cell_type": "code",
   "execution_count": 312,
   "id": "funky-marsh",
   "metadata": {},
   "outputs": [
    {
     "name": "stdout",
     "output_type": "stream",
     "text": [
      "{1: False, 2: False, 3: False, 4: False, 5: False, 6: False}\n",
      "{1: True, 2: False, 3: False, 4: False, 5: False, 6: False}\n",
      "{1: True, 2: False, 3: False, 4: False, 5: False, 6: True}\n",
      "{1: True, 2: False, 3: False, 4: False, 5: True, 6: True}\n",
      "{1: True, 2: False, 3: False, 4: True, 5: True, 6: True}\n",
      "{1: True, 2: False, 3: True, 4: True, 5: True, 6: True}\n"
     ]
    }
   ],
   "source": [
    "visited={ 1:False, 2:False, 3:False, 4:False, 5:False, 6:False }\n",
    "adjList = { 1:[2,3,6], 2:[1,3,5], 3:[1,2], 4:[5], 5:[2,4,6], 6:[1,5] }\n",
    "DFS2(1,adjList,visited)"
   ]
  },
  {
   "cell_type": "code",
   "execution_count": 313,
   "id": "motivated-alarm",
   "metadata": {},
   "outputs": [],
   "source": []
  },
  {
   "cell_type": "code",
   "execution_count": null,
   "id": "accomplished-market",
   "metadata": {},
   "outputs": [],
   "source": []
  },
  {
   "cell_type": "code",
   "execution_count": null,
   "id": "younger-kruger",
   "metadata": {},
   "outputs": [],
   "source": [
    " "
   ]
  }
 ],
 "metadata": {
  "kernelspec": {
   "display_name": "Python 3",
   "language": "python",
   "name": "python3"
  },
  "language_info": {
   "codemirror_mode": {
    "name": "ipython",
    "version": 3
   },
   "file_extension": ".py",
   "mimetype": "text/x-python",
   "name": "python",
   "nbconvert_exporter": "python",
   "pygments_lexer": "ipython3",
   "version": "3.5.2"
  }
 },
 "nbformat": 4,
 "nbformat_minor": 5
}
